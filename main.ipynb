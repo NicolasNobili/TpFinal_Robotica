{
 "cells": [
  {
   "cell_type": "markdown",
   "id": "3171daa0",
   "metadata": {},
   "source": [
    "# Imports"
   ]
  },
  {
   "cell_type": "code",
   "execution_count": 1,
   "id": "6f2d4410",
   "metadata": {},
   "outputs": [],
   "source": [
    "import numpy as np\n",
    "import roboticstoolbox as rtb\n",
    "import matplotlib.pyplot as plt \n",
    "import matplotlib.animation as animation\n",
    "\n",
    "from components.params import PARAMS\n",
    "\n",
    "from components.utils import generar_video_trayectoria"
   ]
  },
  {
   "cell_type": "code",
   "execution_count": 3,
   "id": "cb216ee3",
   "metadata": {},
   "outputs": [
    {
     "name": "stdout",
     "output_type": "stream",
     "text": [
      "DHRobot: dp, 2 joints (RR), dynamics, standard DH parameters\n",
      "┌─────┬────┬────┬──────┐\n",
      "│ θⱼ  │ dⱼ │ aⱼ │  ⍺ⱼ  │\n",
      "├─────┼────┼────┼──────┤\n",
      "│  q1 │  0 │  1 │ 0.0° │\n",
      "│  q2 │  0 │  2 │ 0.0° │\n",
      "└─────┴────┴────┴──────┘\n",
      "\n",
      "┌──┬──┐\n",
      "└──┴──┘\n",
      "\n",
      "┌───────┬────┬──────────────┬────────────────────────────┬────┬───────┬────────┬────┐\n",
      "│   j   │ m  │      r       │             I              │ Jm │   B   │   Tc   │ G  │\n",
      "├───────┼────┼──────────────┼────────────────────────────┼────┼───────┼────────┼────┤\n",
      "│ link1 │  1 │  0.5,  0,  0 │  0,  0,  0.001,  0,  0,  0 │  0 │  0.01 │  0,  0 │  1 │\n",
      "│ link2 │  2 │  1,  0,  0   │  0,  0,  0.002,  0,  0,  0 │  0 │  0.02 │  0,  0 │  2 │\n",
      "└───────┴────┴──────────────┴────────────────────────────┴────┴───────┴────────┴────┘\n",
      "\n",
      "None\n"
     ]
    }
   ],
   "source": [
    "# === Definición del robot usando el modelo de Denavit-Hartenberg (DH) ===\n",
    "dp = rtb.DHRobot(\n",
    "    [\n",
    "        # Primer eslabón (Revolute Joint)\n",
    "        rtb.RevoluteDH(\n",
    "            a=PARAMS['A1'],   # Longitud del eslabón (DH)\n",
    "            m=PARAMS['M1'],   # Masa del eslabón [kg]\n",
    "            r=PARAMS['R1'],   # Centro de masa relativo al frame del eslabón\n",
    "            I=PARAMS['I1'],   # Tensor de inercia \n",
    "            B=PARAMS['B1'],   # Fricción viscosa [Nm/(rad/s)]\n",
    "            G=PARAMS['N1']    # Ganancia de transmisión (sin reductor)\n",
    "        ),\n",
    "        \n",
    "        # Segundo eslabón (Revolute Joint)\n",
    "        rtb.RevoluteDH(\n",
    "            a=PARAMS['A2'],   # Longitud del eslabón (DH)\n",
    "            m=PARAMS['M2'],   # Masa del eslabón [kg]\n",
    "            r=PARAMS['R2'],   # Centro de masa relativo al frame del eslabón\n",
    "            I=PARAMS['I2'],   # Tensor de inercia \n",
    "            B=PARAMS['B2'],   # Fricción viscosa [Nm/(rad/s)]\n",
    "            G=PARAMS['N2']    # Ganancia de transmisión (sin reductor)\n",
    "        )\n",
    "    ],\n",
    "    gravity=np.array([0, -9.8, 0]),  # Vector de gravedad (en dirección -y)\n",
    "    name=\"dp\"                        # Nombre del robot\n",
    ")\n",
    "\n",
    "# === Mostrar el modelo del robot ===\n",
    "print(dp)\n",
    "\n",
    "# === Mostrar parámetros dinámicos del modelo ===\n",
    "print(dp.dynamics())\n"
   ]
  },
  {
   "cell_type": "code",
   "execution_count": 5,
   "id": "c0a9c893",
   "metadata": {},
   "outputs": [
    {
     "ename": "TypeError",
     "evalue": "list indices must be integers or slices, not tuple",
     "output_type": "error",
     "traceback": [
      "\u001b[1;31m---------------------------------------------------------------------------\u001b[0m",
      "\u001b[1;31mTypeError\u001b[0m                                 Traceback (most recent call last)",
      "Cell \u001b[1;32mIn[5], line 11\u001b[0m\n\u001b[0;32m      1\u001b[0m \u001b[38;5;66;03m# -----------------------------------------------------------\u001b[39;00m\n\u001b[0;32m      2\u001b[0m \u001b[38;5;66;03m# Test 1: Sensibilidad a condiciones iniciales - Caso base\u001b[39;00m\n\u001b[0;32m      3\u001b[0m \u001b[38;5;66;03m# -----------------------------------------------------------\u001b[39;00m\n\u001b[0;32m      4\u001b[0m tg \u001b[38;5;241m=\u001b[39m dp\u001b[38;5;241m.\u001b[39mnofriction(coulomb\u001b[38;5;241m=\u001b[39m\u001b[38;5;28;01mTrue\u001b[39;00m, viscous\u001b[38;5;241m=\u001b[39m\u001b[38;5;28;01mTrue\u001b[39;00m)\u001b[38;5;241m.\u001b[39mfdyn(\n\u001b[0;32m      5\u001b[0m     T\u001b[38;5;241m=\u001b[39m\u001b[38;5;241m5\u001b[39m,\n\u001b[0;32m      6\u001b[0m     q0\u001b[38;5;241m=\u001b[39m[\u001b[38;5;241m0\u001b[39m, \u001b[38;5;241m0\u001b[39m],\n\u001b[1;32m   (...)\u001b[0m\n\u001b[0;32m      9\u001b[0m     dt\u001b[38;5;241m=\u001b[39m\u001b[38;5;241m1e-3\u001b[39m\n\u001b[0;32m     10\u001b[0m )\n\u001b[1;32m---> 11\u001b[0m \u001b[43mgenerar_video_trayectoria\u001b[49m\u001b[43m(\u001b[49m\u001b[43mdp\u001b[49m\u001b[43m,\u001b[49m\u001b[43mtg\u001b[49m\u001b[38;5;241;43m.\u001b[39;49m\u001b[43mq\u001b[49m\u001b[43m,\u001b[49m\u001b[43m \u001b[49m\u001b[43mnombre_archivo\u001b[49m\u001b[38;5;241;43m=\u001b[39;49m\u001b[38;5;124;43m'\u001b[39;49m\u001b[38;5;124;43mtrayectoria_test1_NoB.mp4\u001b[39;49m\u001b[38;5;124;43m'\u001b[39;49m\u001b[43m,\u001b[49m\n\u001b[0;32m     12\u001b[0m \u001b[43m                          \u001b[49m\u001b[43mexport_fps\u001b[49m\u001b[38;5;241;43m=\u001b[39;49m\u001b[38;5;241;43m60\u001b[39;49m\u001b[43m,\u001b[49m\u001b[43m \u001b[49m\u001b[43msim_dt\u001b[49m\u001b[38;5;241;43m=\u001b[39;49m\u001b[43mtg\u001b[49m\u001b[38;5;241;43m.\u001b[39;49m\u001b[43mt\u001b[49m\u001b[43m[\u001b[49m\u001b[38;5;241;43m1\u001b[39;49m\u001b[43m]\u001b[49m\u001b[38;5;241;43m-\u001b[39;49m\u001b[43mtg\u001b[49m\u001b[38;5;241;43m.\u001b[39;49m\u001b[43mt\u001b[49m\u001b[43m[\u001b[49m\u001b[38;5;241;43m0\u001b[39;49m\u001b[43m]\u001b[49m\u001b[43m,\u001b[49m\u001b[43ml1\u001b[49m\u001b[38;5;241;43m=\u001b[39;49m\u001b[43mPARAMS\u001b[49m\u001b[43m[\u001b[49m\u001b[38;5;124;43m'\u001b[39;49m\u001b[38;5;124;43mA1\u001b[39;49m\u001b[38;5;124;43m'\u001b[39;49m\u001b[43m]\u001b[49m\u001b[43m,\u001b[49m\u001b[43ml2\u001b[49m\u001b[38;5;241;43m=\u001b[39;49m\u001b[43mPARAMS\u001b[49m\u001b[43m[\u001b[49m\u001b[38;5;124;43m'\u001b[39;49m\u001b[38;5;124;43mA2\u001b[39;49m\u001b[38;5;124;43m'\u001b[39;49m\u001b[43m]\u001b[49m\u001b[43m)\u001b[49m\n",
      "File \u001b[1;32mc:\\Users\\nnobi\\Desktop\\FIUBA\\Robotica\\Tp_Final\\components\\utils.py:80\u001b[0m, in \u001b[0;36mgenerar_video_trayectoria\u001b[1;34m(dp, tg_q, nombre_archivo, export_fps, sim_dt, l1, l2)\u001b[0m\n\u001b[0;32m     75\u001b[0m \u001b[38;5;28;01mdef\u001b[39;00m\u001b[38;5;250m \u001b[39m\u001b[38;5;21mgenerar_escalon_suave\u001b[39m(T_total, Ts, t_subida, ref_value, q0\u001b[38;5;241m=\u001b[39m\u001b[38;5;241m0.0\u001b[39m):\n\u001b[0;32m     76\u001b[0m \u001b[38;5;250m    \u001b[39m\u001b[38;5;124;03m\"\"\"\u001b[39;00m\n\u001b[0;32m     77\u001b[0m \u001b[38;5;124;03m    Genera una señal escalón con subida lineal desde q0 hasta ref_value.\u001b[39;00m\n\u001b[0;32m     78\u001b[0m \n\u001b[0;32m     79\u001b[0m \u001b[38;5;124;03m    Parámetros:\u001b[39;00m\n\u001b[1;32m---> 80\u001b[0m \u001b[38;5;124;03m    - T_total   : Tiempo total de la señal [s]\u001b[39;00m\n\u001b[0;32m     81\u001b[0m \u001b[38;5;124;03m    - Ts        : Tiempo de muestreo [s]\u001b[39;00m\n\u001b[0;32m     82\u001b[0m \u001b[38;5;124;03m    - t_subida  : Tiempo de subida lineal [s]\u001b[39;00m\n\u001b[0;32m     83\u001b[0m \u001b[38;5;124;03m    - ref_value : Valor final del escalón\u001b[39;00m\n\u001b[0;32m     84\u001b[0m \u001b[38;5;124;03m    - q0        : Valor inicial de la señal (por defecto 0.0)\u001b[39;00m\n\u001b[0;32m     85\u001b[0m \n\u001b[0;32m     86\u001b[0m \u001b[38;5;124;03m    Retorna:\u001b[39;00m\n\u001b[0;32m     87\u001b[0m \u001b[38;5;124;03m    - t   : Vector de tiempo\u001b[39;00m\n\u001b[0;32m     88\u001b[0m \u001b[38;5;124;03m    - u   : Señal del escalón suavizado\u001b[39;00m\n\u001b[0;32m     89\u001b[0m \u001b[38;5;124;03m    \"\"\"\u001b[39;00m\n\u001b[0;32m     90\u001b[0m     t \u001b[38;5;241m=\u001b[39m np\u001b[38;5;241m.\u001b[39marange(\u001b[38;5;241m0\u001b[39m, T_total, Ts)\n\u001b[0;32m     91\u001b[0m     u \u001b[38;5;241m=\u001b[39m np\u001b[38;5;241m.\u001b[39mzeros_like(t)\n",
      "File \u001b[1;32mc:\\Users\\nnobi\\Desktop\\FIUBA\\Robotica\\Tp_Final\\venv_robotica\\lib\\site-packages\\matplotlib\\animation.py:1085\u001b[0m, in \u001b[0;36mAnimation.save\u001b[1;34m(self, filename, writer, fps, dpi, codec, bitrate, extra_args, metadata, extra_anim, savefig_kwargs, progress_callback)\u001b[0m\n\u001b[0;32m   1082\u001b[0m \u001b[38;5;28;01mfor\u001b[39;00m data \u001b[38;5;129;01min\u001b[39;00m \u001b[38;5;28mzip\u001b[39m(\u001b[38;5;241m*\u001b[39m[a\u001b[38;5;241m.\u001b[39mnew_saved_frame_seq() \u001b[38;5;28;01mfor\u001b[39;00m a \u001b[38;5;129;01min\u001b[39;00m all_anim]):\n\u001b[0;32m   1083\u001b[0m     \u001b[38;5;28;01mfor\u001b[39;00m anim, d \u001b[38;5;129;01min\u001b[39;00m \u001b[38;5;28mzip\u001b[39m(all_anim, data):\n\u001b[0;32m   1084\u001b[0m         \u001b[38;5;66;03m# TODO: See if turning off blit is really necessary\u001b[39;00m\n\u001b[1;32m-> 1085\u001b[0m         \u001b[43manim\u001b[49m\u001b[38;5;241;43m.\u001b[39;49m\u001b[43m_draw_next_frame\u001b[49m\u001b[43m(\u001b[49m\u001b[43md\u001b[49m\u001b[43m,\u001b[49m\u001b[43m \u001b[49m\u001b[43mblit\u001b[49m\u001b[38;5;241;43m=\u001b[39;49m\u001b[38;5;28;43;01mFalse\u001b[39;49;00m\u001b[43m)\u001b[49m\n\u001b[0;32m   1086\u001b[0m         \u001b[38;5;28;01mif\u001b[39;00m progress_callback \u001b[38;5;129;01mis\u001b[39;00m \u001b[38;5;129;01mnot\u001b[39;00m \u001b[38;5;28;01mNone\u001b[39;00m:\n\u001b[0;32m   1087\u001b[0m             progress_callback(frame_number, total_frames)\n",
      "File \u001b[1;32mc:\\Users\\nnobi\\Desktop\\FIUBA\\Robotica\\Tp_Final\\venv_robotica\\lib\\site-packages\\matplotlib\\animation.py:1120\u001b[0m, in \u001b[0;36mAnimation._draw_next_frame\u001b[1;34m(self, framedata, blit)\u001b[0m\n\u001b[0;32m   1116\u001b[0m \u001b[38;5;28;01mdef\u001b[39;00m\u001b[38;5;250m \u001b[39m\u001b[38;5;21m_draw_next_frame\u001b[39m(\u001b[38;5;28mself\u001b[39m, framedata, blit):\n\u001b[0;32m   1117\u001b[0m     \u001b[38;5;66;03m# Breaks down the drawing of the next frame into steps of pre- and\u001b[39;00m\n\u001b[0;32m   1118\u001b[0m     \u001b[38;5;66;03m# post- draw, as well as the drawing of the frame itself.\u001b[39;00m\n\u001b[0;32m   1119\u001b[0m     \u001b[38;5;28mself\u001b[39m\u001b[38;5;241m.\u001b[39m_pre_draw(framedata, blit)\n\u001b[1;32m-> 1120\u001b[0m     \u001b[38;5;28;43mself\u001b[39;49m\u001b[38;5;241;43m.\u001b[39;49m\u001b[43m_draw_frame\u001b[49m\u001b[43m(\u001b[49m\u001b[43mframedata\u001b[49m\u001b[43m)\u001b[49m\n\u001b[0;32m   1121\u001b[0m     \u001b[38;5;28mself\u001b[39m\u001b[38;5;241m.\u001b[39m_post_draw(framedata, blit)\n",
      "File \u001b[1;32mc:\\Users\\nnobi\\Desktop\\FIUBA\\Robotica\\Tp_Final\\venv_robotica\\lib\\site-packages\\matplotlib\\animation.py:1752\u001b[0m, in \u001b[0;36mFuncAnimation._draw_frame\u001b[1;34m(self, framedata)\u001b[0m\n\u001b[0;32m   1748\u001b[0m     \u001b[38;5;28mself\u001b[39m\u001b[38;5;241m.\u001b[39m_save_seq \u001b[38;5;241m=\u001b[39m \u001b[38;5;28mself\u001b[39m\u001b[38;5;241m.\u001b[39m_save_seq[\u001b[38;5;241m-\u001b[39m\u001b[38;5;28mself\u001b[39m\u001b[38;5;241m.\u001b[39m_save_count:]\n\u001b[0;32m   1750\u001b[0m \u001b[38;5;66;03m# Call the func with framedata and args. If blitting is desired,\u001b[39;00m\n\u001b[0;32m   1751\u001b[0m \u001b[38;5;66;03m# func needs to return a sequence of any artists that were modified.\u001b[39;00m\n\u001b[1;32m-> 1752\u001b[0m \u001b[38;5;28mself\u001b[39m\u001b[38;5;241m.\u001b[39m_drawn_artists \u001b[38;5;241m=\u001b[39m \u001b[38;5;28;43mself\u001b[39;49m\u001b[38;5;241;43m.\u001b[39;49m\u001b[43m_func\u001b[49m\u001b[43m(\u001b[49m\u001b[43mframedata\u001b[49m\u001b[43m,\u001b[49m\u001b[43m \u001b[49m\u001b[38;5;241;43m*\u001b[39;49m\u001b[38;5;28;43mself\u001b[39;49m\u001b[38;5;241;43m.\u001b[39;49m\u001b[43m_args\u001b[49m\u001b[43m)\u001b[49m\n\u001b[0;32m   1754\u001b[0m \u001b[38;5;28;01mif\u001b[39;00m \u001b[38;5;28mself\u001b[39m\u001b[38;5;241m.\u001b[39m_blit:\n\u001b[0;32m   1756\u001b[0m     err \u001b[38;5;241m=\u001b[39m \u001b[38;5;167;01mRuntimeError\u001b[39;00m(\u001b[38;5;124m'\u001b[39m\u001b[38;5;124mThe animation function must return a sequence \u001b[39m\u001b[38;5;124m'\u001b[39m\n\u001b[0;32m   1757\u001b[0m                        \u001b[38;5;124m'\u001b[39m\u001b[38;5;124mof Artist objects.\u001b[39m\u001b[38;5;124m'\u001b[39m)\n",
      "File \u001b[1;32mc:\\Users\\nnobi\\Desktop\\FIUBA\\Robotica\\Tp_Final\\components\\utils.py:53\u001b[0m, in \u001b[0;36mupdate\u001b[1;34m(i)\u001b[0m\n\u001b[0;32m     49\u001b[0m p3 = [T3[0, 3], T3[1, 3]]\n\u001b[0;32m     51\u001b[0m points = np.array([p1, p2, p3])\n\u001b[1;32m---> 53\u001b[0m # Actualiza el robot\n\u001b[0;32m     54\u001b[0m line.set_data(points[:, 0], points[:, 1])\n\u001b[0;32m     56\u001b[0m # Agrega la nueva posición del extremo\n",
      "File \u001b[1;32mc:\\Users\\nnobi\\Desktop\\FIUBA\\Robotica\\Tp_Final\\venv_robotica\\lib\\site-packages\\spatialmath\\baseposelist.py:330\u001b[0m, in \u001b[0;36mBasePoseList.__getitem__\u001b[1;34m(self, i)\u001b[0m\n\u001b[0;32m    326\u001b[0m     \u001b[38;5;28;01mreturn\u001b[39;00m \u001b[38;5;28mself\u001b[39m\u001b[38;5;241m.\u001b[39m\u001b[38;5;18m__class__\u001b[39m(\n\u001b[0;32m    327\u001b[0m         [\u001b[38;5;28mself\u001b[39m\u001b[38;5;241m.\u001b[39mdata[k] \u001b[38;5;28;01mfor\u001b[39;00m k \u001b[38;5;129;01min\u001b[39;00m \u001b[38;5;28mrange\u001b[39m(i\u001b[38;5;241m.\u001b[39mstart \u001b[38;5;129;01mor\u001b[39;00m \u001b[38;5;241m0\u001b[39m, end, i\u001b[38;5;241m.\u001b[39mstep \u001b[38;5;129;01mor\u001b[39;00m \u001b[38;5;241m1\u001b[39m)]\n\u001b[0;32m    328\u001b[0m     )\n\u001b[0;32m    329\u001b[0m \u001b[38;5;28;01melse\u001b[39;00m:\n\u001b[1;32m--> 330\u001b[0m     ret \u001b[38;5;241m=\u001b[39m \u001b[38;5;28mself\u001b[39m\u001b[38;5;241m.\u001b[39m\u001b[38;5;18m__class__\u001b[39m(\u001b[38;5;28;43mself\u001b[39;49m\u001b[38;5;241;43m.\u001b[39;49m\u001b[43mdata\u001b[49m\u001b[43m[\u001b[49m\u001b[43mi\u001b[49m\u001b[43m]\u001b[49m, check\u001b[38;5;241m=\u001b[39m\u001b[38;5;28;01mFalse\u001b[39;00m)\n\u001b[0;32m    331\u001b[0m     \u001b[38;5;66;03m# ret.__array_interface__ = self.data[i].__array_interface__\u001b[39;00m\n\u001b[0;32m    332\u001b[0m     \u001b[38;5;28;01mreturn\u001b[39;00m ret\n",
      "\u001b[1;31mTypeError\u001b[0m: list indices must be integers or slices, not tuple"
     ]
    },
    {
     "data": {
      "image/png": "[encoded data removed]",
      "text/plain": [
       "<Figure size 640x480 with 1 Axes>"
      ]
     },
     "metadata": {},
     "output_type": "display_data"
    }
   ],
   "source": [
    "# -----------------------------------------------------------\n",
    "# Test 1: Sensibilidad a condiciones iniciales - Caso base\n",
    "# -----------------------------------------------------------\n",
    "tg = dp.nofriction(coulomb=True, viscous=True).fdyn(\n",
    "    T=5,\n",
    "    q0=[0, 0],\n",
    "    Q=None,  # Sin torque aplicado\n",
    "    qd0=np.zeros((2,)),\n",
    "    dt=1e-3\n",
    ")\n",
    "generar_video_trayectoria(dp,tg.q, nombre_archivo='trayectoria_test1_NoB.mp4',\n",
    "                          export_fps=60, sim_dt=tg.t[1]-tg.t[0],l1=PARAMS['A1'],l2=PARAMS['A2'])\n"
   ]
  }
 ],
 "metadata": {
  "kernelspec": {
   "display_name": "venv_robotica",
   "language": "python",
   "name": "python3"
  },
  "language_info": {
   "codemirror_mode": {
    "name": "ipython",
    "version": 3
   },
   "file_extension": ".py",
   "mimetype": "text/x-python",
   "name": "python",
   "nbconvert_exporter": "python",
   "pygments_lexer": "ipython3",
   "version": "3.9.13"
  }
 },
 "nbformat": 4,
 "nbformat_minor": 5
}
